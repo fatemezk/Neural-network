{
 "cells": [
  {
   "cell_type": "markdown",
   "metadata": {
    "id": "Kv8g6N5J7Krw"
   },
   "source": [
    "# Computer Assignment 5 "
   ]
  },
  {
   "cell_type": "markdown",
   "metadata": {
    "id": "YOSUbHd57Kry"
   },
   "source": [
    "# Neural Networks"
   ]
  },
  {
   "cell_type": "markdown",
   "metadata": {
    "id": "MhLS12Ve7Kry"
   },
   "source": [
    "Fateme ZareKarizi\n",
    "810198550"
   ]
  },
  {
   "cell_type": "markdown",
   "metadata": {
    "id": "lWL4xxmc7Kry"
   },
   "source": [
    "In this assignment we are given some pictures of handwritten arabic alphabet. We are about to recognize these pictures using Feed Forward in Neural Networks."
   ]
  },
  {
   "cell_type": "markdown",
   "metadata": {
    "id": "4hcb42LM7Krz"
   },
   "source": [
    "# Review Data and PreProcess"
   ]
  },
  {
   "cell_type": "code",
   "execution_count": 3,
   "metadata": {
    "colab": {
     "base_uri": "https://localhost:8080/",
     "height": 177
    },
    "id": "owZZ3D-87Krz",
    "outputId": "e242a0db-32f6-4a90-c418-83cf99f04fda"
   },
   "outputs": [
    {
     "data": {
      "text/html": [
       "\n",
       "     <input type=\"file\" id=\"files-af04d6c1-93aa-42de-ac56-6150156eb5f5\" name=\"files[]\" multiple disabled\n",
       "        style=\"border:none\" />\n",
       "     <output id=\"result-af04d6c1-93aa-42de-ac56-6150156eb5f5\">\n",
       "      Upload widget is only available when the cell has been executed in the\n",
       "      current browser session. Please rerun this cell to enable.\n",
       "      </output>\n",
       "      <script>// Copyright 2017 Google LLC\n",
       "//\n",
       "// Licensed under the Apache License, Version 2.0 (the \"License\");\n",
       "// you may not use this file except in compliance with the License.\n",
       "// You may obtain a copy of the License at\n",
       "//\n",
       "//      http://www.apache.org/licenses/LICENSE-2.0\n",
       "//\n",
       "// Unless required by applicable law or agreed to in writing, software\n",
       "// distributed under the License is distributed on an \"AS IS\" BASIS,\n",
       "// WITHOUT WARRANTIES OR CONDITIONS OF ANY KIND, either express or implied.\n",
       "// See the License for the specific language governing permissions and\n",
       "// limitations under the License.\n",
       "\n",
       "/**\n",
       " * @fileoverview Helpers for google.colab Python module.\n",
       " */\n",
       "(function(scope) {\n",
       "function span(text, styleAttributes = {}) {\n",
       "  const element = document.createElement('span');\n",
       "  element.textContent = text;\n",
       "  for (const key of Object.keys(styleAttributes)) {\n",
       "    element.style[key] = styleAttributes[key];\n",
       "  }\n",
       "  return element;\n",
       "}\n",
       "\n",
       "// Max number of bytes which will be uploaded at a time.\n",
       "const MAX_PAYLOAD_SIZE = 100 * 1024;\n",
       "\n",
       "function _uploadFiles(inputId, outputId) {\n",
       "  const steps = uploadFilesStep(inputId, outputId);\n",
       "  const outputElement = document.getElementById(outputId);\n",
       "  // Cache steps on the outputElement to make it available for the next call\n",
       "  // to uploadFilesContinue from Python.\n",
       "  outputElement.steps = steps;\n",
       "\n",
       "  return _uploadFilesContinue(outputId);\n",
       "}\n",
       "\n",
       "// This is roughly an async generator (not supported in the browser yet),\n",
       "// where there are multiple asynchronous steps and the Python side is going\n",
       "// to poll for completion of each step.\n",
       "// This uses a Promise to block the python side on completion of each step,\n",
       "// then passes the result of the previous step as the input to the next step.\n",
       "function _uploadFilesContinue(outputId) {\n",
       "  const outputElement = document.getElementById(outputId);\n",
       "  const steps = outputElement.steps;\n",
       "\n",
       "  const next = steps.next(outputElement.lastPromiseValue);\n",
       "  return Promise.resolve(next.value.promise).then((value) => {\n",
       "    // Cache the last promise value to make it available to the next\n",
       "    // step of the generator.\n",
       "    outputElement.lastPromiseValue = value;\n",
       "    return next.value.response;\n",
       "  });\n",
       "}\n",
       "\n",
       "/**\n",
       " * Generator function which is called between each async step of the upload\n",
       " * process.\n",
       " * @param {string} inputId Element ID of the input file picker element.\n",
       " * @param {string} outputId Element ID of the output display.\n",
       " * @return {!Iterable<!Object>} Iterable of next steps.\n",
       " */\n",
       "function* uploadFilesStep(inputId, outputId) {\n",
       "  const inputElement = document.getElementById(inputId);\n",
       "  inputElement.disabled = false;\n",
       "\n",
       "  const outputElement = document.getElementById(outputId);\n",
       "  outputElement.innerHTML = '';\n",
       "\n",
       "  const pickedPromise = new Promise((resolve) => {\n",
       "    inputElement.addEventListener('change', (e) => {\n",
       "      resolve(e.target.files);\n",
       "    });\n",
       "  });\n",
       "\n",
       "  const cancel = document.createElement('button');\n",
       "  inputElement.parentElement.appendChild(cancel);\n",
       "  cancel.textContent = 'Cancel upload';\n",
       "  const cancelPromise = new Promise((resolve) => {\n",
       "    cancel.onclick = () => {\n",
       "      resolve(null);\n",
       "    };\n",
       "  });\n",
       "\n",
       "  // Wait for the user to pick the files.\n",
       "  const files = yield {\n",
       "    promise: Promise.race([pickedPromise, cancelPromise]),\n",
       "    response: {\n",
       "      action: 'starting',\n",
       "    }\n",
       "  };\n",
       "\n",
       "  cancel.remove();\n",
       "\n",
       "  // Disable the input element since further picks are not allowed.\n",
       "  inputElement.disabled = true;\n",
       "\n",
       "  if (!files) {\n",
       "    return {\n",
       "      response: {\n",
       "        action: 'complete',\n",
       "      }\n",
       "    };\n",
       "  }\n",
       "\n",
       "  for (const file of files) {\n",
       "    const li = document.createElement('li');\n",
       "    li.append(span(file.name, {fontWeight: 'bold'}));\n",
       "    li.append(span(\n",
       "        `(${file.type || 'n/a'}) - ${file.size} bytes, ` +\n",
       "        `last modified: ${\n",
       "            file.lastModifiedDate ? file.lastModifiedDate.toLocaleDateString() :\n",
       "                                    'n/a'} - `));\n",
       "    const percent = span('0% done');\n",
       "    li.appendChild(percent);\n",
       "\n",
       "    outputElement.appendChild(li);\n",
       "\n",
       "    const fileDataPromise = new Promise((resolve) => {\n",
       "      const reader = new FileReader();\n",
       "      reader.onload = (e) => {\n",
       "        resolve(e.target.result);\n",
       "      };\n",
       "      reader.readAsArrayBuffer(file);\n",
       "    });\n",
       "    // Wait for the data to be ready.\n",
       "    let fileData = yield {\n",
       "      promise: fileDataPromise,\n",
       "      response: {\n",
       "        action: 'continue',\n",
       "      }\n",
       "    };\n",
       "\n",
       "    // Use a chunked sending to avoid message size limits. See b/62115660.\n",
       "    let position = 0;\n",
       "    do {\n",
       "      const length = Math.min(fileData.byteLength - position, MAX_PAYLOAD_SIZE);\n",
       "      const chunk = new Uint8Array(fileData, position, length);\n",
       "      position += length;\n",
       "\n",
       "      const base64 = btoa(String.fromCharCode.apply(null, chunk));\n",
       "      yield {\n",
       "        response: {\n",
       "          action: 'append',\n",
       "          file: file.name,\n",
       "          data: base64,\n",
       "        },\n",
       "      };\n",
       "\n",
       "      let percentDone = fileData.byteLength === 0 ?\n",
       "          100 :\n",
       "          Math.round((position / fileData.byteLength) * 100);\n",
       "      percent.textContent = `${percentDone}% done`;\n",
       "\n",
       "    } while (position < fileData.byteLength);\n",
       "  }\n",
       "\n",
       "  // All done.\n",
       "  yield {\n",
       "    response: {\n",
       "      action: 'complete',\n",
       "    }\n",
       "  };\n",
       "}\n",
       "\n",
       "scope.google = scope.google || {};\n",
       "scope.google.colab = scope.google.colab || {};\n",
       "scope.google.colab._files = {\n",
       "  _uploadFiles,\n",
       "  _uploadFilesContinue,\n",
       "};\n",
       "})(self);\n",
       "</script> "
      ],
      "text/plain": [
       "<IPython.core.display.HTML object>"
      ]
     },
     "metadata": {},
     "output_type": "display_data"
    },
    {
     "name": "stdout",
     "output_type": "stream",
     "text": [
      "Saving TestImgs.csv to TestImgs.csv\n",
      "Saving TestLabels.csv to TestLabels.csv\n",
      "Saving TrainImgs.csv to TrainImgs.csv\n",
      "Saving TrainLabels.csv to TrainLabels.csv\n"
     ]
    }
   ],
   "source": [
    "import cv2\n",
    "import random\n",
    "import pandas as pd\n",
    "import matplotlib.pyplot as plt\n",
    "\n",
    "from google.colab import files\n",
    "uploaded = files.upload()\n",
    "train_l = pd.read_csv('/content/TrainLabels.csv',header=None)\n",
    "test_l = pd.read_csv('/content/TestLabels.csv',header=None)\n",
    "train_i = pd.read_csv('/content/TrainImgs.csv',header=None)\n",
    "test_i = pd.read_csv('/content/TestImgs.csv',header=None)\n",
    "\n",
    "\n"
   ]
  },
  {
   "cell_type": "markdown",
   "metadata": {
    "id": "qBaHqg3HPbZK"
   },
   "source": [
    "**Number of datas and calsses**"
   ]
  },
  {
   "cell_type": "code",
   "execution_count": 4,
   "metadata": {
    "colab": {
     "base_uri": "https://localhost:8080/"
    },
    "id": "JujfpKbs1__9",
    "outputId": "90f1c4da-17d1-446d-d6b3-2d64c3427b4a"
   },
   "outputs": [
    {
     "name": "stdout",
     "output_type": "stream",
     "text": [
      "<class 'pandas.core.frame.DataFrame'>\n",
      "RangeIndex: 13440 entries, 0 to 13439\n",
      "Columns: 1024 entries, 0 to 1023\n",
      "dtypes: int64(1024)\n",
      "memory usage: 105.0 MB\n",
      "We have 28 classes.\n"
     ]
    }
   ],
   "source": [
    "train_i.info()\n",
    "unique_labels = train_l.drop_duplicates()\n",
    "print(\"We have {} classes.\".format(unique_labels.size))"
   ]
  },
  {
   "cell_type": "markdown",
   "metadata": {
    "id": "cXagHXbRPzdn"
   },
   "source": [
    "**Reshape data and show images**"
   ]
  },
  {
   "cell_type": "code",
   "execution_count": 5,
   "metadata": {
    "id": "voG84-TDaUqd"
   },
   "outputs": [],
   "source": [
    "import numpy as np\n",
    "\n",
    "traini=np.reshape(train_i.values,(train_i.values.shape[0],32,32))\n",
    "testi=np.reshape(test_i.values,(test_i.values.shape[0],32,32))\n"
   ]
  },
  {
   "cell_type": "code",
   "execution_count": 6,
   "metadata": {
    "colab": {
     "base_uri": "https://localhost:8080/",
     "height": 1000
    },
    "id": "DvKOqw4ypPo6",
    "outputId": "d97ffdcb-91fa-4037-86e8-ffad4e8dd062"
   },
   "outputs": [
    {
     "name": "stderr",
     "output_type": "stream",
     "text": [
      "/usr/local/lib/python3.8/dist-packages/matplotlib/text.py:1165: FutureWarning: elementwise comparison failed; returning scalar instead, but in the future will perform elementwise comparison\n",
      "  if s != self._text:\n"
     ]
    },
    {
     "data": {
      "image/png": "[encoded data removed]",
      "text/plain": [
       "<Figure size 432x288 with 1 Axes>"
      ]
     },
     "metadata": {
      "needs_background": "light"
     },
     "output_type": "display_data"
    },
    {
     "data": {
      "image/png": "[encoded data removed]",
      "text/plain": [
       "<Figure size 432x288 with 1 Axes>"
      ]
     },
     "metadata": {
      "needs_background": "light"
     },
     "output_type": "display_data"
    },
    {
     "data": {
      "image/png": "[encoded data removed]",
      "text/plain": [
       "<Figure size 432x288 with 1 Axes>"
      ]
     },
     "metadata": {
      "needs_background": "light"
     },
     "output_type": "display_data"
    },
    {
     "data": {
      "image/png": "[encoded data removed]",
      "text/plain": [
       "<Figure size 432x288 with 1 Axes>"
      ]
     },
     "metadata": {
      "needs_background": "light"
     },
     "output_type": "display_data"
    },
    {
     "data": {
      "image/png": "[encoded data removed]",
      "text/plain": [
       "<Figure size 432x288 with 1 Axes>"
      ]
     },
     "metadata": {
      "needs_background": "light"
     },
     "output_type": "display_data"
    },
    {
     "data": {
      "image/png": "[encoded data removed]",
      "text/plain": [
       "<Figure size 432x288 with 1 Axes>"
      ]
     },
     "metadata": {
      "needs_background": "light"
     },
     "output_type": "display_data"
    },
    {
     "data": {
      "image/png": "[encoded data removed]",
      "text/plain": [
       "<Figure size 432x288 with 1 Axes>"
      ]
     },
     "metadata": {
      "needs_background": "light"
     },
     "output_type": "display_data"
    },
    {
     "data": {
      "image/png": "[encoded data removed]",
      "text/plain": [
       "<Figure size 432x288 with 1 Axes>"
      ]
     },
     "metadata": {
      "needs_background": "light"
     },
     "output_type": "display_data"
    },
    {
     "data": {
      "image/png": "[encoded data removed]",
      "text/plain": [
       "<Figure size 432x288 with 1 Axes>"
      ]
     },
     "metadata": {
      "needs_background": "light"
     },
     "output_type": "display_data"
    },
    {
     "data": {
      "image/png": "[encoded data removed]",
      "text/plain": [
       "<Figure size 432x288 with 1 Axes>"
      ]
     },
     "metadata": {
      "needs_background": "light"
     },
     "output_type": "display_data"
    },
    {
     "data": {
      "image/png": "[encoded data removed]",
      "text/plain": [
       "<Figure size 432x288 with 1 Axes>"
      ]
     },
     "metadata": {
      "needs_background": "light"
     },
     "output_type": "display_data"
    },
    {
     "data": {
      "image/png": "[encoded data removed]",
      "text/plain": [
       "<Figure size 432x288 with 1 Axes>"
      ]
     },
     "metadata": {
      "needs_background": "light"
     },
     "output_type": "display_data"
    },
    {
     "data": {
      "image/png": "[encoded data removed]",
      "text/plain": [
       "<Figure size 432x288 with 1 Axes>"
      ]
     },
     "metadata": {
      "needs_background": "light"
     },
     "output_type": "display_data"
    },
    {
     "data": {
      "image/png": "[encoded data removed]",
      "text/plain": [
       "<Figure size 432x288 with 1 Axes>"
      ]
     },
     "metadata": {
      "needs_background": "light"
     },
     "output_type": "display_data"
    },
    {
     "data": {
      "image/png": "[encoded data removed]",
      "text/plain": [
       "<Figure size 432x288 with 1 Axes>"
      ]
     },
     "metadata": {
      "needs_background": "light"
     },
     "output_type": "display_data"
    },
    {
     "data": {
      "image/png": "[encoded data removed]",
      "text/plain": [
       "<Figure size 432x288 with 1 Axes>"
      ]
     },
     "metadata": {
      "needs_background": "light"
     },
     "output_type": "display_data"
    },
    {
     "data": {
      "image/png": "[encoded data removed]",
      "text/plain": [
       "<Figure size 432x288 with 1 Axes>"
      ]
     },
     "metadata": {
      "needs_background": "light"
     },
     "output_type": "display_data"
    },
    {
     "data": {
      "image/png": "[encoded data removed]",
      "text/plain": [
       "<Figure size 432x288 with 1 Axes>"
      ]
     },
     "metadata": {
      "needs_background": "light"
     },
     "output_type": "display_data"
    },
    {
     "data": {
      "image/png": "[encoded data removed]",
      "text/plain": [
       "<Figure size 432x288 with 1 Axes>"
      ]
     },
     "metadata": {
      "needs_background": "light"
     },
     "output_type": "display_data"
    },
    {
     "data": {
      "image/png": "[encoded data removed]",
      "text/plain": [
       "<Figure size 432x288 with 1 Axes>"
      ]
     },
     "metadata": {
      "needs_background": "light"
     },
     "output_type": "display_data"
    },
    {
     "data": {
      "image/png": "[encoded data removed]",
      "text/plain": [
       "<Figure size 432x288 with 1 Axes>"
      ]
     },
     "metadata": {
      "needs_background": "light"
     },
     "output_type": "display_data"
    },
    {
     "data": {
      "image/png": "[encoded data removed]",
      "text/plain": [
       "<Figure size 432x288 with 1 Axes>"
      ]
     },
     "metadata": {
      "needs_background": "light"
     },
     "output_type": "display_data"
    },
    {
     "data": {
      "image/png": "[encoded data removed]",
      "text/plain": [
       "<Figure size 432x288 with 1 Axes>"
      ]
     },
     "metadata": {
      "needs_background": "light"
     },
     "output_type": "display_data"
    },
    {
     "data": {
      "image/png": "[encoded data removed]",
      "text/plain": [
       "<Figure size 432x288 with 1 Axes>"
      ]
     },
     "metadata": {
      "needs_background": "light"
     },
     "output_type": "display_data"
    },
    {
     "data": {
      "image/png": "[encoded data removed]",
      "text/plain": [
       "<Figure size 432x288 with 1 Axes>"
      ]
     },
     "metadata": {
      "needs_background": "light"
     },
     "output_type": "display_data"
    },
    {
     "data": {
      "image/png": "[encoded data removed]",
      "text/plain": [
       "<Figure size 432x288 with 1 Axes>"
      ]
     },
     "metadata": {
      "needs_background": "light"
     },
     "output_type": "display_data"
    },
    {
     "data": {
      "image/png": "[encoded data removed]",
      "text/plain": [
       "<Figure size 432x288 with 1 Axes>"
      ]
     },
     "metadata": {
      "needs_background": "light"
     },
     "output_type": "display_data"
    },
    {
     "data": {
      "image/png": "[encoded data removed]",
      "text/plain": [
       "<Figure size 432x288 with 1 Axes>"
      ]
     },
     "metadata": {
      "needs_background": "light"
     },
     "output_type": "display_data"
    }
   ],
   "source": [
    "for i in range(28):\n",
    "  plt.title(train_l.values[i*8+1])\n",
    "  plt.imshow(traini[i*8+1], cmap='binary')\n",
    "  plt.show()"
   ]
  },
  {
   "cell_type": "markdown",
   "metadata": {
    "id": "ntajP9WrQR2N"
   },
   "source": [
    "**Maximum and Minimum values of the pixels**"
   ]
  },
  {
   "cell_type": "code",
   "execution_count": 7,
   "metadata": {
    "colab": {
     "base_uri": "https://localhost:8080/"
    },
    "id": "EZ9VRHLFw-av",
    "outputId": "e07e0ada-8a01-4616-ab95-8f2bc0baa056"
   },
   "outputs": [
    {
     "name": "stdout",
     "output_type": "stream",
     "text": [
      "max=255\n",
      "min=0\n"
     ]
    }
   ],
   "source": [
    "print(f'max={traini.max()}')\n",
    "print(f'min={traini.min()}')"
   ]
  },
  {
   "cell_type": "markdown",
   "metadata": {
    "id": "u3BzG5i1RCFi"
   },
   "source": [
    "**keep the 16th first classes**"
   ]
  },
  {
   "cell_type": "code",
   "execution_count": 8,
   "metadata": {
    "id": "tp6emjgy7Kr0"
   },
   "outputs": [],
   "source": [
    "indexNames = train_l[ train_l.values > 16 ].index\n",
    "train_l.drop(indexNames , inplace=True)\n",
    "train_i.drop(indexNames , inplace=True)"
   ]
  },
  {
   "cell_type": "code",
   "execution_count": 9,
   "metadata": {
    "id": "066QQy6r8RK_"
   },
   "outputs": [],
   "source": [
    "indexNames1 = test_l[ test_l.values > 16 ].index\n",
    "test_l.drop(indexNames1 , inplace=True)\n",
    "test_i.drop(indexNames1 , inplace=True)"
   ]
  },
  {
   "cell_type": "markdown",
   "metadata": {
    "id": "kvJWiCjFRQa4"
   },
   "source": [
    "**Count of the data in each classes**"
   ]
  },
  {
   "cell_type": "code",
   "execution_count": 10,
   "metadata": {
    "colab": {
     "base_uri": "https://localhost:8080/",
     "height": 336
    },
    "id": "QVZ2DBgi8g_7",
    "outputId": "512226c5-fd1d-4f35-9935-6c19c4e2afd6"
   },
   "outputs": [
    {
     "data": {
      "image/png": "[encoded data removed]",
      "text/plain": [
       "<Figure size 720x360 with 1 Axes>"
      ]
     },
     "metadata": {
      "needs_background": "light"
     },
     "output_type": "display_data"
    }
   ],
   "source": [
    "plt.figure(figsize=(10, 5))\n",
    "classes = {}\n",
    "\n",
    "for i in range(17):\n",
    "    classes[i] = train_l[train_l.values == i].shape[0]\n",
    "\n",
    "values = list(classes.values())\n",
    "keys = list(classes.keys())\n",
    "plt.title('train')\n",
    "plt.bar(range(len(keys)), values, align='center')\n",
    "plt.xticks(range(len(keys)))\n",
    "plt.show()"
   ]
  },
  {
   "cell_type": "code",
   "execution_count": 11,
   "metadata": {
    "colab": {
     "base_uri": "https://localhost:8080/",
     "height": 336
    },
    "id": "U5vzrBRL_2ld",
    "outputId": "9724c565-d002-4d7a-ff28-90913269aa8f"
   },
   "outputs": [
    {
     "data": {
      "image/png": "[encoded data removed]",
      "text/plain": [
       "<Figure size 720x360 with 1 Axes>"
      ]
     },
     "metadata": {
      "needs_background": "light"
     },
     "output_type": "display_data"
    }
   ],
   "source": [
    "plt.figure(figsize=(10, 5))\n",
    "classes = {}\n",
    "\n",
    "for i in range(17):\n",
    "    classes[i] = test_l[test_l.values == i].shape[0]\n",
    "\n",
    "values = list(classes.values())\n",
    "keys = list(classes.keys())\n",
    "plt.title('test')\n",
    "plt.bar(range(len(keys)), values, align='center')\n",
    "plt.xticks(range(len(keys)))\n",
    "plt.show()"
   ]
  },
  {
   "cell_type": "markdown",
   "metadata": {
    "id": "o8y6LDLMRbp9"
   },
   "source": [
    "**Normalizing data**\n",
    "\n",
    "If we don't do this step, our features would lose their impacts moving forward and the activation functions would be obsolete."
   ]
  },
  {
   "cell_type": "code",
   "execution_count": 12,
   "metadata": {
    "colab": {
     "base_uri": "https://localhost:8080/"
    },
    "id": "7kcvLBxkAuQp",
    "outputId": "7d690ef0-5beb-4db7-ef73-50d643d2827f"
   },
   "outputs": [
    {
     "name": "stdout",
     "output_type": "stream",
     "text": [
      "max=1.0\n",
      "min=0.0\n"
     ]
    }
   ],
   "source": [
    "from sklearn.preprocessing import MinMaxScaler\n",
    "min_max_scaler = MinMaxScaler()\n",
    "min_max_scaler.fit(train_i)\n",
    "train_scaled = min_max_scaler.transform(train_i)\n",
    "print(f'max={train_scaled.max()}')\n",
    "print(f'min={train_scaled.min()}')"
   ]
  },
  {
   "cell_type": "code",
   "execution_count": 13,
   "metadata": {
    "colab": {
     "base_uri": "https://localhost:8080/"
    },
    "id": "b9gdpFnzDfB0",
    "outputId": "cbdc25ba-8093-453c-f9bf-6a8b3e6d6e37"
   },
   "outputs": [
    {
     "name": "stdout",
     "output_type": "stream",
     "text": [
      "max=1.0\n",
      "min=0.0\n"
     ]
    }
   ],
   "source": [
    "min_max_scaler.fit(test_i)\n",
    "test_scaled = min_max_scaler.transform(test_i)\n",
    "print(f'max={test_scaled.max()}')\n",
    "print(f'min={test_scaled.min()}')"
   ]
  },
  {
   "cell_type": "markdown",
   "metadata": {
    "id": "nxD7XPoPUBK0"
   },
   "source": [
    "our last lyer can have one noron.in this case the value of this noron is the label of the class.then the output of the loss function would be different for the data with larg labels.\n",
    "so we implement the last lyer with n norons where the n is the number of our classes. in this case the output of the right noron would be 1 and others 0. \n",
    "so we have to use one-hot-encoding for our lables."
   ]
  },
  {
   "cell_type": "code",
   "execution_count": null,
   "metadata": {
    "id": "yClmH9JOFjCR"
   },
   "outputs": [],
   "source": [
    "import tensorflow as tf\n",
    "from tensorflow import keras\n",
    "#from tensorflow.keras.utils import to_categorical\n",
    "\n",
    "#train_l = to_categorical(train_l)\n",
    "#test_l = to_categorical(test_l)"
   ]
  },
  {
   "cell_type": "markdown",
   "metadata": {
    "id": "_0vnVFVn7Kr0"
   },
   "source": [
    "# Dataloader"
   ]
  },
  {
   "cell_type": "code",
   "execution_count": 14,
   "metadata": {
    "id": "xGSsf_zh7Kr0"
   },
   "outputs": [],
   "source": [
    "class Dataloader:\n",
    "    \n",
    "    def __init__(self, data, labels, n_classes, batch_size=None, shuffle=False):\n",
    "        assert len(data)==len(labels)\n",
    "        self.__n_classes = n_classes\n",
    "        self.__batch_size = batch_size\n",
    "        self.__shuffle = shuffle\n",
    "        self.__data = data\n",
    "        self.__onehot_labels = self.__onehot(labels, self.__n_classes)\n",
    "    \n",
    "    def __onehot(self, labels, n_classes):\n",
    "        labels = labels.astype(int)\n",
    "        onehot_vectors = np.zeros((labels.size, n_classes))\n",
    "        onehot_vectors[np.arange(labels.size), labels] = 1.0\n",
    "        return onehot_vectors\n",
    "    \n",
    "    def __shuffle_dataset(self):\n",
    "        total_data = np.c_[\n",
    "            self.__data.reshape(len(self.__data), -1), self.__onehot_labels.reshape(len(self.__onehot_labels), -1)]\n",
    "        np.random.shuffle(total_data)\n",
    "        data = total_data[:, :self.__data.size // len(self.__data)].reshape(self.__data.shape)\n",
    "        self.__onehot_labels = total_data[:, self.__data.sizelen(self.__data):].reshape(self.__onehot_labels.shape)\n",
    "        self.__data = data\n",
    "        \n",
    "    def __iter__(self):\n",
    "        \n",
    "        if self.__shuffle:\n",
    "            self.__shuffle_dataset()\n",
    "            \n",
    "        if self.__batch_size==None:\n",
    "            yield (np.matrix(self.__data), np.matrix(self.__onehot_labels))\n",
    "            return\n",
    "            \n",
    "        for idx in range(0, len(self.__data), self.__batch_size):\n",
    "            yield (np.matrix(self.__data[idx:idx+self.__batch_size]), \n",
    "                   np.matrix(self.__onehot_labels[idx:idx+self.__batch_size]))"
   ]
  },
  {
   "cell_type": "markdown",
   "metadata": {
    "id": "diEjnz3D7Kr1"
   },
   "source": [
    "# Activation Functions"
   ]
  },
  {
   "cell_type": "code",
   "execution_count": 15,
   "metadata": {
    "id": "Osr6PLGe7Kr2"
   },
   "outputs": [],
   "source": [
    "class Identical:\n",
    "    \n",
    "    def __init__(self):\n",
    "        pass\n",
    "    \n",
    "    def __val(self, matrix):\n",
    "        identical_value = np.matrix(matrix, dtype=float)\n",
    "        return identical_value\n",
    "\n",
    "    def derivative(self, matrix):\n",
    "        temp = np.matrix(matrix, dtype=float)\n",
    "        identical_derivative = np.matrix(np.full(np.shape(temp), 1.))\n",
    "        return identical_derivative\n",
    "    \n",
    "    def __call__(self, matrix):\n",
    "        return self.__val(matrix)\n",
    "    \n",
    "\n",
    "class Relu:\n",
    "    \n",
    "    def __init__(self):\n",
    "        pass\n",
    "    \n",
    "    def __val(self, matrix):\n",
    "        relu_value = matrix.copy()\n",
    "        relu_value[relu_value < 0] = 0\n",
    "        return relu_value\n",
    "\n",
    "    def derivative(self, matrix):\n",
    "        relu_derivative = matrix.copy()\n",
    "        relu_derivative[relu_derivative < 0] = 0\n",
    "        relu_derivative[relu_derivative > 0] = 1\n",
    "        return relu_derivative\n",
    "    \n",
    "    def __call__(self, matrix):\n",
    "        return self.__val(matrix)\n",
    "\n",
    "    \n",
    "class LeakyRelu:\n",
    "    \n",
    "    def __init__(self, negative_slope=0.01):\n",
    "        self.negative_slope = 0.01\n",
    "    \n",
    "    def __val(self, matrix):\n",
    "        leacky_relu_value = matrix.copy()\n",
    "        leacky_relu_value = np.where(leacky_relu_value > 0, leacky_relu_value, 0.01 * leacky_relu_value)  \n",
    "        return leacky_relu_value\n",
    "\n",
    "    def derivative(self, matrix):\n",
    "        leacky_relu_derivative = matrix.copy()\n",
    "        leacky_relu_derivative = np.where(leacky_relu_derivative > 0, 1, 0.01) \n",
    "        return leacky_relu_derivative\n",
    "    \n",
    "    def __call__(self, matrix):\n",
    "        return self.__val(matrix)\n",
    "\n",
    "    \n",
    "class Sigmoid:\n",
    "    \n",
    "    def __init__(self):\n",
    "        pass\n",
    "\n",
    "    def __val(self, matrix):\n",
    "    \n",
    "        sigmoid_value = 1.0 / (1.0 + np.exp(-matrix))\n",
    "        return sigmoid_value\n",
    "\n",
    "    def derivative(self, matrix):\n",
    "        \n",
    "        sigmoid_value = self.__val(matrix)\n",
    "        sigmoid_derivative = np.multiply(sigmoid_value, 1 - sigmoid_value)\n",
    "        return sigmoid_derivative\n",
    "    \n",
    "    def __call__(self, matrix):\n",
    "        \n",
    "        return self.__val(matrix)\n",
    "\n",
    "\n",
    "class Softmax:\n",
    "        \n",
    "    def __init__(self):\n",
    "        pass\n",
    "\n",
    "    def __val(self, matrix):\n",
    "       \n",
    "        softmax_value = np.zeros(matrix.shape)\n",
    "        for i in range(0, len(matrix)):\n",
    "            softmax_value[i] = np.exp(matrix[i] - np.max(matrix[i])) #stable softmax\n",
    "            softmax_value[i] /= np.sum(softmax_value[i])\n",
    "        return softmax_value\n",
    "    \n",
    "    def __call__(self, matrix):\n",
    "        return self.__val(matrix)\n",
    "    \n",
    "class Tanh:\n",
    "    \n",
    "    def __init__(self):\n",
    "        pass\n",
    "\n",
    "    def __val(self, matrix):\n",
    "        tanh_value = np.tanh(matrix)\n",
    "        return tanh_value\n",
    "\n",
    "    def derivative(self, matrix):\n",
    "        tanh_value = self.__val(matrix)\n",
    "        tanh_derivative = 1 - np.multiply(tanh_value, tanh_value)\n",
    "        return tanh_derivative\n",
    "    \n",
    "    def __call__(self, matrix):\n",
    "        return self.__val(matrix)"
   ]
  },
  {
   "cell_type": "markdown",
   "metadata": {
    "id": "iEIYyMhv7Kr_"
   },
   "source": []
  },
  {
   "cell_type": "markdown",
   "metadata": {
    "id": "K1g6v_7R7Kr_"
   },
   "source": [
    "# Loss Function"
   ]
  },
  {
   "cell_type": "code",
   "execution_count": 16,
   "metadata": {
    "id": "n3_QP9wP7Kr_"
   },
   "outputs": [],
   "source": [
    "BIAS = 1e-10\n",
    "class CrossEntropy: #(with softmax)\n",
    "    def __init__(self):\n",
    "        pass\n",
    "\n",
    "    def __val(self, true_val, expected_val):\n",
    "        \n",
    "        assert np.shape(true_val)==np.shape(expected_val)\n",
    "        softmax = Softmax()\n",
    "        cross_entropy_value = np.sum(-np.multiply(expected_val, np.log(softmax(true_val + BIAS) + BIAS)), axis=1)\n",
    "        return cross_entropy_value\n",
    "        \n",
    "    def derivative(self, true_val, expected_val):\n",
    "        assert np.shape(true_val)==np.shape(expected_val)\n",
    "        softmax = Softmax()\n",
    "        cross_entropy_derivative = softmax(true_val) - expected_val\n",
    "        return cross_entropy_derivative\n",
    "    \n",
    "    def __call__(self, true_val, expected_val):\n",
    "        return self.__val(true_val, expected_val)"
   ]
  },
  {
   "cell_type": "markdown",
   "metadata": {
    "id": "ok5bo1SR7KsA"
   },
   "source": [
    "# Layer"
   ]
  },
  {
   "cell_type": "code",
   "execution_count": 17,
   "metadata": {
    "id": "lIoKxQe77KsA"
   },
   "outputs": [],
   "source": [
    "class Layer:\n",
    "   \n",
    "    DEFAULT_LOW, DEFAULT_HIGH, DEFAULT_MEAN, DEFAULT_VAR = 0, 0.05, 0., 1.\n",
    "  \n",
    "    def __init__(self, input_size, output_size, activation=Identical(), initial_weight='uniform', \n",
    "                 **initializing_parameters):\n",
    "        assert type(initial_weight)==str, 'Undefined activation function!'\n",
    "        \n",
    "        self.__weight_initializer_dict = {'uniform':self.__uniform_weight, 'normal':self.__normal_weight}\n",
    "        \n",
    "        assert initial_weight in self.__weight_initializer_dict, 'Undefined weight initialization function!'\n",
    "\n",
    "\n",
    "        self.__n_neurons = output_size\n",
    "        weight_initializer = self.__weight_initializer_dict[initial_weight]\n",
    "        self.__weight = weight_initializer(input_size, self.__n_neurons, **initializing_parameters)\n",
    "        self.__bias = weight_initializer(1, self.__n_neurons, **initializing_parameters)\n",
    "        self.__activation = activation\n",
    "        \n",
    "        self.__last_input = None\n",
    "        self.__last_activation_input = None\n",
    "        self.__last_activation_output = None\n",
    "        self.__last_activation_derivative = None\n",
    "        \n",
    "    def forward(self, layer_input):\n",
    "        assert np.ndim(layer_input)==2\n",
    "        assert np.size(self.__weight,0) == np.size(layer_input,1)\n",
    "\n",
    "        self.__last_input = layer_input.copy()\n",
    "        \n",
    "        self.__last_activation_input = np.add(np.dot(layer_input, self.__weight), self.__bias)\n",
    "        self.__last_activation_output = self.__activation(self.__last_activation_input)\n",
    "        self.__last_activation_derivative = self.activation.derivative(self.__last_activation_input)\n",
    "        return self.__last_activation_output\n",
    "    \n",
    "    def update_weights(self, backprop_tensor, lr):\n",
    "        assert np.ndim(backprop_tensor)==2\n",
    "        assert np.size(backprop_tensor,0) == np.size(self.__last_activation_derivative,0)\n",
    "        assert np.size(backprop_tensor,1) == self.__n_neurons\n",
    "        \n",
    "        backprop_tensor_copy = backprop_tensor.copy()\n",
    "        dL_dy = np.multiply(backprop_tensor_copy, self.__last_activation_derivative)\n",
    "        backprop_tensor = np.dot(dL_dy, self.__weight.transpose()) #dL_dx\n",
    "        \n",
    "        dL_dW = np.dot(self.__last_input.T, dL_dy)\n",
    "        self.__weight -= (lr * dL_dW)\n",
    "        \n",
    "        ones_ = np.ones((1, dL_dy.shape[0]))\n",
    "        dL_db = np.dot(ones_, dL_dy)\n",
    "        self.__bias -= (lr * dL_db)\n",
    "        \n",
    "        return backprop_tensor\n",
    "\n",
    "    def __uniform_weight(self, dim1, dim2, **initializing_parameters):\n",
    "        low, high = self.DEFAULT_LOW, self.DEFAULT_HIGH\n",
    "        if 'low' in initializing_parameters.keys(): low = initializing_parameters['low']\n",
    "        if 'high' in initializing_parameters.keys(): high = initializing_parameters['high']\n",
    "\n",
    "        weights = np.random.uniform(low = low, high = high, size = (dim1, dim2))\n",
    "        \n",
    "        return weights\n",
    "\n",
    "    def __normal_weight(self, dim1, dim2, **initializing_parameters):\n",
    "        mean, var = self.DEFAULT_MEAN, self.DEFAULT_VAR\n",
    "        if 'mean' in initializing_parameters.keys(): mean = initializing_parameters['mean']\n",
    "        if 'var' in initializing_parameters.keys(): var = initializing_parameters['var']\n",
    "        \n",
    "        weights = np.random.normal(loc = mean, scale = np.sqrt(var), size=(dim1, dim2))\n",
    "        \n",
    "        return weights\n",
    "    \n",
    "    @property\n",
    "    def n_neurons(self): return self.__n_neurons\n",
    "    \n",
    "    @property\n",
    "    def weight(self): return self.__weight\n",
    "    \n",
    "    @property\n",
    "    def bias(self): return self.__bias\n",
    "    \n",
    "    @property\n",
    "    def activation(self): return self.__activation"
   ]
  },
  {
   "cell_type": "markdown",
   "metadata": {
    "id": "iP7pkBJz7KsB"
   },
   "source": [
    "# Feed Forward Neural Network"
   ]
  },
  {
   "cell_type": "code",
   "execution_count": 18,
   "metadata": {
    "id": "mAyFMdqF7KsB"
   },
   "outputs": [],
   "source": [
    "class FeedForwardNN:\n",
    "    \n",
    "    def __init__(self, input_shape):\n",
    "        self.__input_shape = input_shape\n",
    "        self.__output_shape = None\n",
    "        \n",
    "        self.__layers_list = []\n",
    "        \n",
    "        self.__lr = None\n",
    "        self.__loss = None\n",
    "\n",
    "        \n",
    "    def add_layer(self, n_neurons, activation=Relu(), initial_weight='uniform', **initializing_parameters):\n",
    "        assert type(n_neurons)==int, \"Invalid number of neurons for the layer!\"\n",
    "        assert n_neurons>0, \"Invalid number of neurons for the layer!\"\n",
    "        \n",
    "        n_prev_neurons = self.__input_shape if len(self.__layers_list)==0 else self.__layers_list[-1].n_neurons\n",
    "        new_layer = Layer(n_prev_neurons, n_neurons, activation, initial_weight, **initializing_parameters)\n",
    "        self.__layers_list.append(new_layer)\n",
    "        self.__output_shape = self.__layers_list[-1].n_neurons \n",
    "      \n",
    "    \n",
    "    def set_training_param(self, loss=CrossEntropy(), lr=1e-3):\n",
    "        assert self.__layers_list, \"Uncomplete model!\"\n",
    "        self.__loss = loss\n",
    "        self.__lr = lr\n",
    "    \n",
    "    \n",
    "    def forward(self, network_input):\n",
    "        assert type(self.__output_shape) != None, \"Model is not compiled!\"\n",
    "    \n",
    "        network_output = network_input.copy()\n",
    "        for layer in self.__layers_list:\n",
    "            network_output = layer.forward(network_output)\n",
    "            \n",
    "        return network_output\n",
    "    \n",
    "    \n",
    "    def fit(self, epochs, trainloader, testloader=None, print_results=True):\n",
    "        assert type(self.__output_shape) != None, \"Model is not compiled!\"\n",
    "        assert type(self.__lr) != None and type(self.__loss) != None, \"Training paramenters are not set!\"\n",
    "\n",
    "        log = {\"train_accuracy\":[], \"train_loss\":[], \"test_accuracy\":[], \"test_loss\":[]}\n",
    "        \n",
    "        for epoch in range(1, epochs+1):\n",
    "            \n",
    "            if print_results: \n",
    "                print('Epoch {}:'.format(epoch)) \n",
    "                \n",
    "            average_accuracy, average_loss = self.__train(trainloader)\n",
    "            log['train_accuracy'].append(average_accuracy)\n",
    "            log['train_loss'].append(average_loss)\n",
    "            if print_results:\n",
    "                print('\\tTrain: Average Accuracy: {}\\tAverage Loss: {}'.format(average_accuracy, average_loss))\n",
    "            \n",
    "            if type(testloader) != type(None):\n",
    "                average_accuracy, average_loss = self.__test(testloader)\n",
    "                log['test_accuracy'].append(average_accuracy)\n",
    "                log['test_loss'].append(average_loss)\n",
    "                if print_results:\n",
    "                    print('\\tTest: Average Accuracy: {}\\tAverage Loss: {}'.format(average_accuracy, average_loss))\n",
    "                    \n",
    "        return log\n",
    "    \n",
    "    \n",
    "    def __train(self, trainloader):\n",
    "        batch_accuracies, batch_losses = [], []\n",
    "        for x_train, y_train in trainloader:\n",
    "            batch_accuracy, batch_loss = self.__train_on_batch(x_train, y_train)\n",
    "            batch_accuracies.append(batch_accuracy)\n",
    "            batch_losses.append(batch_loss)\n",
    "        return np.mean(batch_accuracies), np.mean(batch_losses)\n",
    "    \n",
    "    \n",
    "    def __test(self, testloader):\n",
    "        batch_accuracies, batch_losses = [], []\n",
    "        for x_test, y_test in testloader:\n",
    "            batch_accuracy, batch_loss = self.__test_on_batch(x_test, y_test)\n",
    "            batch_accuracies.append(batch_accuracy)\n",
    "            batch_losses.append(batch_loss)\n",
    "            \n",
    "        return np.mean(batch_accuracies), np.mean(batch_losses)\n",
    "\n",
    "    \n",
    "    def __train_on_batch(self, x_batch, y_batch):\n",
    "        batch_out = self.forward(x_batch)\n",
    "        batch_accuracy = self.__compute_accuracy(batch_out, y_batch)\n",
    "        batch_average_loss = np.mean(self.__loss(batch_out, y_batch))\n",
    "        self.__update_weights(batch_out, y_batch)\n",
    "        \n",
    "        return (batch_accuracy, batch_average_loss)\n",
    "        \n",
    "        \n",
    "    def __test_on_batch(self, x_batch, y_batch):\n",
    "        batch_out = self.forward(x_batch)\n",
    "        batch_accuracy = self.__compute_accuracy(batch_out, y_batch)\n",
    "        batch_average_loss = np.mean(self.__loss(batch_out, y_batch))\n",
    "        \n",
    "        return (batch_accuracy, batch_average_loss)\n",
    "            \n",
    "        \n",
    "    def __get_labels(self, outputs):\n",
    "        labels = outputs.argmax(axis=1)\n",
    "        \n",
    "        return labels\n",
    "    \n",
    "    \n",
    "    def __compute_accuracy(self, output, expected_output):\n",
    "        generated_l = self.__get_labels(output)\n",
    "        true_l = self.__get_labels(expected_output)\n",
    "        accuracy = ((generated_l == true_l).sum() / output.shape[0]) \n",
    "        \n",
    "        return accuracy\n",
    "    \n",
    "    \n",
    "    def __update_weights(self, output, y_train):\n",
    "        gradiant = self.__loss.derivative(output, y_train)\n",
    "        for layer in reversed(self.__layers_list):\n",
    "            gradiant = layer.update_weights(gradiant, self.__lr)\n",
    "            \n",
    "        return"
   ]
  },
  {
   "cell_type": "markdown",
   "metadata": {
    "id": "LyqDxBLC7KsB"
   },
   "source": [
    "# Training Sample Code"
   ]
  },
  {
   "cell_type": "code",
   "execution_count": 2,
   "metadata": {
    "colab": {
     "base_uri": "https://localhost:8080/",
     "height": 235
    },
    "id": "I6a7yGa87KsC",
    "outputId": "631740ad-3601-48a6-c556-16671b1ce197",
    "scrolled": false
   },
   "outputs": [
    {
     "ename": "NameError",
     "evalue": "ignored",
     "output_type": "error",
     "traceback": [
      "\u001b[0;31m---------------------------------------------------------------------------\u001b[0m",
      "\u001b[0;31mNameError\u001b[0m                                 Traceback (most recent call last)",
      "\u001b[0;32m<ipython-input-2-0fb7663d5839>\u001b[0m in \u001b[0;36m<module>\u001b[0;34m\u001b[0m\n\u001b[1;32m      3\u001b[0m \u001b[0mcolumns_\u001b[0m \u001b[0;34m=\u001b[0m \u001b[0;34m[\u001b[0m\u001b[0mi\u001b[0m \u001b[0;32mfor\u001b[0m \u001b[0mi\u001b[0m \u001b[0;32min\u001b[0m \u001b[0mrange\u001b[0m\u001b[0;34m(\u001b[0m\u001b[0;36m0\u001b[0m\u001b[0;34m,\u001b[0m \u001b[0;36m1024\u001b[0m\u001b[0;34m)\u001b[0m\u001b[0;34m]\u001b[0m\u001b[0;34m\u001b[0m\u001b[0;34m\u001b[0m\u001b[0m\n\u001b[1;32m      4\u001b[0m \u001b[0;34m\u001b[0m\u001b[0m\n\u001b[0;32m----> 5\u001b[0;31m \u001b[0mtrain_rows\u001b[0m \u001b[0;34m=\u001b[0m \u001b[0;34m[\u001b[0m\u001b[0mnp\u001b[0m\u001b[0;34m.\u001b[0m\u001b[0mreshape\u001b[0m\u001b[0;34m(\u001b[0m\u001b[0mrow\u001b[0m\u001b[0;34m,\u001b[0m \u001b[0;36m1024\u001b[0m\u001b[0;34m)\u001b[0m \u001b[0;32mfor\u001b[0m \u001b[0mrow\u001b[0m \u001b[0;32min\u001b[0m \u001b[0mtrain_i\u001b[0m\u001b[0;34m.\u001b[0m\u001b[0mvalues\u001b[0m\u001b[0;34m]\u001b[0m\u001b[0;34m\u001b[0m\u001b[0;34m\u001b[0m\u001b[0m\n\u001b[0m\u001b[1;32m      6\u001b[0m \u001b[0mtrain_neurons\u001b[0m \u001b[0;34m=\u001b[0m \u001b[0mpd\u001b[0m\u001b[0;34m.\u001b[0m\u001b[0mDataFrame\u001b[0m\u001b[0;34m(\u001b[0m\u001b[0mtrain_rows\u001b[0m\u001b[0;34m,\u001b[0m \u001b[0mcolumns\u001b[0m\u001b[0;34m=\u001b[0m\u001b[0mcolumns_\u001b[0m\u001b[0;34m)\u001b[0m\u001b[0;34m\u001b[0m\u001b[0;34m\u001b[0m\u001b[0m\n\u001b[1;32m      7\u001b[0m \u001b[0mtest_rows\u001b[0m \u001b[0;34m=\u001b[0m \u001b[0;34m[\u001b[0m\u001b[0mnp\u001b[0m\u001b[0;34m.\u001b[0m\u001b[0mreshape\u001b[0m\u001b[0;34m(\u001b[0m\u001b[0mrow\u001b[0m\u001b[0;34m,\u001b[0m \u001b[0;36m1024\u001b[0m\u001b[0;34m)\u001b[0m \u001b[0;32mfor\u001b[0m \u001b[0mrow\u001b[0m \u001b[0;32min\u001b[0m \u001b[0mtest_i\u001b[0m\u001b[0;34m.\u001b[0m\u001b[0mvalues\u001b[0m\u001b[0;34m]\u001b[0m\u001b[0;34m\u001b[0m\u001b[0;34m\u001b[0m\u001b[0m\n",
      "\u001b[0;31mNameError\u001b[0m: name 'train_i' is not defined"
     ]
    }
   ],
   "source": [
    "# Sample code for building and training a model\n",
    "\n",
    "columns_ = [i for i in range(0, 1024)]\n",
    "\n",
    "train_rows = [np.reshape(row, 1024) for row in train_i.values]\n",
    "train_neurons = pd.DataFrame(train_rows, columns=columns_)\n",
    "test_rows = [np.reshape(row, 1024) for row in test_i.values]\n",
    "test_neurons = pd.DataFrame(test_rows, columns=columns_)\n",
    "\n",
    "INPUT_SHAPE = 1024\n",
    "LEARNING_RATE = 0.005\n",
    "EPOCHS = 100\n",
    "\n",
    "TRAINLOADER = Dataloader(data = train_neurons, labels = train_l.values, n_classes = 16, batch_size = 32 , shuffle=False)\n",
    "TESTLOADER =  Dataloader(data = test_neurons, labels = test_l.values, n_classes = 16, batch_size = 32 , shuffle=False)\n",
    "\n",
    "network = FeedForwardNN(INPUT_SHAPE)\n",
    "network.add_layer(30, input_shape=INPUT_SHAPE, activation=Relu(), weight_initializer='uniform')\n",
    "network.add_layer(2, activation=Identical(), weight_initializer='uniform')\n",
    "network.set_training_param(loss=CrossEntropy(), lr=LEARNING_RATE)\n",
    "log = network.fit(EPOCHS, TRAINLOADER, TESTLOADER)"
   ]
  },
  {
   "cell_type": "markdown",
   "metadata": {
    "id": "VajET0Xcg3qB"
   },
   "source": [
    "**What if all the initial weights were zero?**\n",
    "\n",
    "If all the weights are initialized to zeros, the derivatives will remain same for every w in W[l]. As a result, neurons will learn same features in each iterations. This problem is known as network failing to break symmetry. On a more general note, if we initialize the weights with a constant, all of our nodes will end up with the same value and it will be no different than having just one node in the hidden layer. Because of this, our network would end up learning just one function while the goal of a neural network is to have different nodes compute different functions. To avoid such problem, we can initialize the weights randomly."
   ]
  },
  {
   "cell_type": "markdown",
   "metadata": {
    "id": "F-99lDVkhRcM"
   },
   "source": [
    "**What impact does the learning rate play?**\n",
    "\n",
    "We know that learning rate has a direct relation with the value of our change. However, we need to find the proper learning rate such that our accuracy will be maximum. Here, we run our code for two (very) different learning rates."
   ]
  },
  {
   "cell_type": "code",
   "execution_count": null,
   "metadata": {
    "id": "bSaiH_QIhe2p"
   },
   "outputs": [],
   "source": [
    "INPUT_SHAPE = 1024\n",
    "LEARNING_RATE = 0.0001\n",
    "EPOCHS = 100\n",
    "\n",
    "TRAINLOADER = Dataloader(data = train_neurons, labels = train_l.values, n_classes = 16, batch_size = 32 , shuffle=False)\n",
    "TESTLOADER =  Dataloader(data = test_neurons, labels = test_l.values, n_classes = 16, batch_size = 32 , shuffle=False)\n",
    "\n",
    "network = FeedForwardNN(INPUT_SHAPE)\n",
    "network.add_layer(30, input_shape=INPUT_SHAPE, activation=Relu(), weight_initializer='uniform')\n",
    "network.add_layer(2, activation=Identical(), weight_initializer='uniform')\n",
    "network.set_training_param(loss=CrossEntropy(), lr=LEARNING_RATE)\n",
    "log = network.fit(EPOCHS, TRAINLOADER, TESTLOADER)"
   ]
  },
  {
   "cell_type": "markdown",
   "metadata": {
    "id": "C6k_IUfQiUvE"
   },
   "source": [
    "We can see that we're not taking as big steps as we should and therefore are moving very slowly (especially at the beginning). Our highest accuracy is around 60 percent."
   ]
  },
  {
   "cell_type": "code",
   "execution_count": null,
   "metadata": {
    "id": "8ZWfxj5viCRQ"
   },
   "outputs": [],
   "source": [
    "INPUT_SHAPE = 1024\n",
    "LEARNING_RATE = 0.1\n",
    "EPOCHS = 100\n",
    "\n",
    "TRAINLOADER = Dataloader(data = train_neurons, labels = train_l.values, n_classes = 16, batch_size = 32 , shuffle=False)\n",
    "TESTLOADER =  Dataloader(data = test_neurons, labels = test_l.values, n_classes = 16, batch_size = 32 , shuffle=False)\n",
    "\n",
    "network = FeedForwardNN(INPUT_SHAPE)\n",
    "network.add_layer(30, input_shape=INPUT_SHAPE, activation=Relu(), weight_initializer='uniform')\n",
    "network.add_layer(2, activation=Identical(), weight_initializer='uniform')\n",
    "network.set_training_param(loss=CrossEntropy(), lr=LEARNING_RATE)\n",
    "log = network.fit(EPOCHS, TRAINLOADER, TESTLOADER)"
   ]
  },
  {
   "cell_type": "markdown",
   "metadata": {
    "id": "p6FmY9-QigI2"
   },
   "source": [
    "This time, our steps are bigger than we needed so we can't actually improve the accuracy and miss the desired spot at each epoch.\n"
   ]
  },
  {
   "cell_type": "code",
   "execution_count": null,
   "metadata": {
    "id": "0D0wSKsVixCw"
   },
   "outputs": [],
   "source": [
    "INPUT_SHAPE = 1024\n",
    "LEARNING_RATE = 0.005\n",
    "EPOCHS = 100\n",
    "\n",
    "TRAINLOADER = Dataloader(data = train_neurons, labels = train_l.values, n_classes = 16, batch_size = 32 , shuffle=False)\n",
    "TESTLOADER =  Dataloader(data = test_neurons, labels = test_l.values, n_classes = 16, batch_size = 32 , shuffle=False)\n",
    "\n",
    "network = FeedForwardNN(INPUT_SHAPE)\n",
    "network.add_layer(30, input_shape=INPUT_SHAPE, activation=Sigmoid(), weight_initializer='uniform')\n",
    "network.add_layer(2, activation=Identical(), weight_initializer='uniform')\n",
    "network.set_training_param(loss=CrossEntropy(), lr=LEARNING_RATE)\n",
    "log = network.fit(EPOCHS, TRAINLOADER, TESTLOADER)"
   ]
  },
  {
   "cell_type": "code",
   "execution_count": null,
   "metadata": {
    "id": "BFDGcwnBjEte"
   },
   "outputs": [],
   "source": [
    "INPUT_SHAPE = 1024\n",
    "LEARNING_RATE = 0.005\n",
    "EPOCHS = 100\n",
    "\n",
    "TRAINLOADER = Dataloader(data = train_neurons, labels = train_l.values, n_classes = 16, batch_size = 32 , shuffle=False)\n",
    "TESTLOADER =  Dataloader(data = test_neurons, labels = test_l.values, n_classes = 16, batch_size = 32 , shuffle=False)\n",
    "\n",
    "network = FeedForwardNN(INPUT_SHAPE)\n",
    "network.add_layer(30, input_shape=INPUT_SHAPE, activation=Tanh(), weight_initializer='uniform')\n",
    "network.add_layer(2, activation=Identical(), weight_initializer='uniform')\n",
    "network.set_training_param(loss=CrossEntropy(), lr=LEARNING_RATE)\n",
    "log = network.fit(EPOCHS, TRAINLOADER, TESTLOADER)"
   ]
  },
  {
   "cell_type": "markdown",
   "metadata": {
    "id": "Ea-J38ajjSF-"
   },
   "source": [
    "We can see that neither Sigmoid nor Tanh have a acceptable performance.\n",
    "\n",
    "Sigmoid has two main disadvantages:\n",
    "\n",
    "\n",
    "1.   Sigmoids saturate and kill gradients: A very undesirable property of the sigmoid neuron is that when the neuron's activation saturates at either tail of 0 or 1, the gradient at these regions is almost zero. Therefore, if the local gradient is very small, no signal will flow through the neuron to its weights and recursively to its data. Additionally, one must pay extra caution when initializing the weights of sigmoid neurons to prevent saturation. For example, if the initial weights are too large then most neurons would become saturated and the network will barely learn.\n",
    "2.   Sigmoid outputs are not zero-centered: This is undesirable since neurons in later layers of processing in a Neural Network would be receiving data that is not zero-centered. This has implications on the dynamics during gradient descent, because if the data coming into a neuron is always positive, then the gradient on the weights w will during backpropagation become either all be positive, or all negative (depending on the gradient of the whole expression f). This could introduce undesirable zig-zagging dynamics in the gradient updates for the weights.\n",
    "\n",
    "Tanh saturates too. Large values snap to 1.0 and small values snap to -1 for tanh. Further, the function is only really sensitive to changes around its mid-point of the input (e.g. 0.0).\n",
    "\n",
    "Layers deep in large networks using these nonlinear activation functions fail to receive useful gradient information. Error is back propagated through the network and used to update the weights. The amount of error decreases dramatically with each additional layer through which it is propagated, given the derivative of the chosen activation function. This is called the vanishing gradient problem and prevents deep (multi-layered) networks from learning effectively.\n",
    "\n",
    "Note that tanh tanh is preferred and usually performs better than sigmoid (logistic) becuase it's symmetric about the origin, where the inputs would be normalized and they are more likely to produce outputs (which are inputs to next layer) and also, they are on an average close to zero. It can also be said that data is centered around zero for tanh.\n",
    "\n",
    "\n",
    "\n",
    "\n",
    "\n"
   ]
  },
  {
   "cell_type": "code",
   "execution_count": null,
   "metadata": {
    "id": "0Nh0AL0Uk7L1"
   },
   "outputs": [],
   "source": [
    "INPUT_SHAPE = 1024\n",
    "LEARNING_RATE = 0.005\n",
    "EPOCHS = 100\n",
    "\n",
    "TRAINLOADER = Dataloader(data = train_neurons, labels = train_l.values, n_classes = 16, batch_size = 32 , shuffle=False)\n",
    "TESTLOADER =  Dataloader(data = test_neurons, labels = test_l.values, n_classes = 16, batch_size = 32 , shuffle=False)\n",
    "\n",
    "network = FeedForwardNN(INPUT_SHAPE)\n",
    "network.add_layer(30, input_shape=INPUT_SHAPE, activation=LeakyRelu(), weight_initializer='uniform')\n",
    "network.add_layer(2, activation=Identical(), weight_initializer='uniform')\n",
    "network.set_training_param(loss=CrossEntropy(), lr=LEARNING_RATE)\n",
    "log = network.fit(EPOCHS, TRAINLOADER, TESTLOADER)"
   ]
  },
  {
   "cell_type": "markdown",
   "metadata": {
    "id": "HeRC-s9JlGf4"
   },
   "source": [
    "We can see that LeakyRelu is working similar to Relu. In theory, it should be wroking a bit better, especially when we have a lot of negative values. Remember that in Relu, when we face a negative value during backpropagation, because of the fact that the derivative is 0, no learning happens and the weights remain the same. However with LeakyRelu we no longer face a 0 derivative and can learn even from the negative values."
   ]
  },
  {
   "cell_type": "code",
   "execution_count": null,
   "metadata": {
    "id": "_OEp5_6VlOM4"
   },
   "outputs": [],
   "source": [
    "INPUT_SHAPE = 1024\n",
    "LEARNING_RATE = 0.005\n",
    "EPOCHS = 100\n",
    "\n",
    "TRAINLOADER = Dataloader(data = train_neurons, labels = train_l.values, n_classes = 16, batch_size = 16 , shuffle=False)\n",
    "TESTLOADER =  Dataloader(data = test_neurons, labels = test_l.values, n_classes = 16, batch_size = 16 , shuffle=False)\n",
    "\n",
    "network = FeedForwardNN(INPUT_SHAPE)\n",
    "network.add_layer(30, input_shape=INPUT_SHAPE, activation=Relu(), weight_initializer='uniform')\n",
    "network.add_layer(2, activation=Identical(), weight_initializer='uniform')\n",
    "network.set_training_param(loss=CrossEntropy(), lr=LEARNING_RATE)\n",
    "log = network.fit(EPOCHS, TRAINLOADER, TESTLOADER)"
   ]
  },
  {
   "cell_type": "code",
   "execution_count": null,
   "metadata": {
    "id": "j1pxXlSPmD8n"
   },
   "outputs": [],
   "source": [
    "INPUT_SHAPE = 1024\n",
    "LEARNING_RATE = 0.005\n",
    "EPOCHS = 100\n",
    "\n",
    "TRAINLOADER = Dataloader(data = train_neurons, labels = train_l.values, n_classes = 16, batch_size = 256 , shuffle=False)\n",
    "TESTLOADER =  Dataloader(data = test_neurons, labels = test_l.values, n_classes = 16, batch_size = 256 , shuffle=False)\n",
    "\n",
    "network = FeedForwardNN(INPUT_SHAPE)\n",
    "network.add_layer(30, input_shape=INPUT_SHAPE, activation=Relu(), weight_initializer='uniform')\n",
    "network.add_layer(2, activation=Identical(), weight_initializer='uniform')\n",
    "network.set_training_param(loss=CrossEntropy(), lr=LEARNING_RATE)\n",
    "log = network.fit(EPOCHS, TRAINLOADER, TESTLOADER)"
   ]
  },
  {
   "cell_type": "markdown",
   "metadata": {
    "id": "OihxNJ8-mNms"
   },
   "source": [
    "As it can be seen, batch size = 16 has a higher accuracy. This is because larger batches do fewer and coarser search steps for the optimal solution, and so by construction will be less likely to converge on the optimal solution.\n",
    "\n",
    "Using larger batch sizes would allow us to parallelize computations to a greater degree, since we could split up the training examples between different worker nodes. This in turn could significantly speed up model training. However, larger batch sizes, while able to achieve similar training error as smaller batch sizes, tend to generalize worse to test data.\n",
    "\n",
    "Generally, we can conclude that the larger the batch size:\n",
    "\n",
    "*   The slower the training loss decreases.\n",
    "*   The higher the minimum validation loss.\n",
    "*   The less time it takes to train per epoch.\n",
    "*   The more epochs it takes to converge to the minimum validation loss.\n",
    "\n",
    "The main reason to use batches in training is because of the fact that we don't have infinite memory. By using batches, we can divide the program's memory into different parts. Also, if we don't use batches, we would need to store thousands of error values in the memory and this will decrease our training speed. On the other hand, say our batch size is 32, then we only need to store the error values for 32 neurons.\n",
    "\n",
    "Using mini-batches has its own pros and cons.\n",
    "\n",
    "**Pros:**\n",
    "\n",
    "*   The model update frequency is higher than batch gradient descent which allows for a more robust convergence, avoiding local minima.\n",
    "*   The batched updates provide a computationally more efficient process than stochastic gradient descent.\n",
    "*   The batching allows both the efficiency of not having all training data in memory and algorithm implementations.\n",
    "\n",
    "**Cons:**\n",
    "\n",
    "*   Mini-batch requires the configuration of an additional “mini-batch size” hyperparameter for the learning algorithm.\n",
    "*   Error information must be accumulated across mini-batches of training examples like batch gradient descent.\n"
   ]
  }
 ],
 "metadata": {
  "colab": {
   "provenance": []
  },
  "kernelspec": {
   "display_name": "Python 3 (ipykernel)",
   "language": "python",
   "name": "python3"
  },
  "language_info": {
   "codemirror_mode": {
    "name": "ipython",
    "version": 3
   },
   "file_extension": ".py",
   "mimetype": "text/x-python",
   "name": "python",
   "nbconvert_exporter": "python",
   "pygments_lexer": "ipython3",
   "version": "3.9.9"
  }
 },
 "nbformat": 4,
 "nbformat_minor": 1
}
